{
  "nbformat": 4,
  "nbformat_minor": 0,
  "metadata": {
    "colab": {
      "name": "Python_Assignment2.ipynb",
      "provenance": [],
      "authorship_tag": "ABX9TyP1huryBwOi+WJBv7rFK1/S",
      "include_colab_link": true
    },
    "kernelspec": {
      "name": "python3",
      "display_name": "Python 3"
    },
    "language_info": {
      "name": "python"
    }
  },
  "cells": [
    {
      "cell_type": "markdown",
      "metadata": {
        "id": "view-in-github",
        "colab_type": "text"
      },
      "source": [
        "<a href=\"https://colab.research.google.com/github/Jasmine-Syed/Ineuron_Assignments/blob/main/Python_Assignment2.ipynb\" target=\"_parent\"><img src=\"https://colab.research.google.com/assets/colab-badge.svg\" alt=\"Open In Colab\"/></a>"
      ]
    },
    {
      "cell_type": "markdown",
      "metadata": {
        "id": "R10CsLvrOC6M"
      },
      "source": [
        "# 1.Introduction \n",
        "\n",
        "This assignment will help you to consolidate the concepts learnt in the session. \n"
      ]
    },
    {
      "cell_type": "markdown",
      "metadata": {
        "id": "EKzytRQ5OWrj"
      },
      "source": [
        "# 2.Problem Statement \n",
        "\n",
        "1. Write a program which accepts a sequence of comma-separated numbers from console  and generate a list. \n"
      ]
    },
    {
      "cell_type": "code",
      "metadata": {
        "id": "G-YnHuz5O7Ig"
      },
      "source": [
        "def lst():\n",
        "  num = input(\"Enter a sequence of numbers seperated by comma \")\n",
        "  num = num.split(\",\")\n",
        "  lst1 = list(num)\n",
        "  for i in range(len(lst1)):\n",
        "    lst1[i]= int(lst1[i])\n",
        "  return lst1\n",
        "  \n",
        " \n",
        "  "
      ],
      "execution_count": null,
      "outputs": []
    },
    {
      "cell_type": "code",
      "metadata": {
        "colab": {
          "base_uri": "https://localhost:8080/"
        },
        "id": "ANMwNY_sO60n",
        "outputId": "0b20cec9-827c-43b4-a20a-f1860edc39a6"
      },
      "source": [
        "lst()\n"
      ],
      "execution_count": null,
      "outputs": [
        {
          "output_type": "stream",
          "text": [
            "Enter a sequence of numbers seperated by comma 1,2,4,6\n"
          ],
          "name": "stdout"
        },
        {
          "output_type": "execute_result",
          "data": {
            "text/plain": [
              "[1, 2, 4, 6]"
            ]
          },
          "metadata": {
            "tags": []
          },
          "execution_count": 28
        }
      ]
    },
    {
      "cell_type": "markdown",
      "metadata": {
        "id": "81LxLDZEO8Ha"
      },
      "source": [
        "1. Create the below pattern using nested for loop in Python. \n",
        "\n",
        "\n",
        "# * \n",
        "# * * \n",
        "# * * * \n",
        "# * * * * \n",
        "# * * * * * \n",
        "# * * * * \n",
        "# * * * \n",
        "# * * \n",
        "# * \n",
        "\n",
        "\n"
      ]
    },
    {
      "cell_type": "code",
      "metadata": {
        "colab": {
          "base_uri": "https://localhost:8080/"
        },
        "id": "wXLL8vqhXA1j",
        "outputId": "3bab2905-8917-4c38-dd54-324e6c2d1181"
      },
      "source": [
        "range(5,0,-1)"
      ],
      "execution_count": 9,
      "outputs": [
        {
          "output_type": "execute_result",
          "data": {
            "text/plain": [
              "range(5, 0, -1)"
            ]
          },
          "metadata": {
            "tags": []
          },
          "execution_count": 9
        }
      ]
    },
    {
      "cell_type": "code",
      "metadata": {
        "colab": {
          "base_uri": "https://localhost:8080/"
        },
        "id": "QKxlzdUvW2a7",
        "outputId": "c21b4af6-5468-4f03-e27b-73ecb4c2b417"
      },
      "source": [
        "for i in range(5,0,-1):\n",
        "  print(i)"
      ],
      "execution_count": 10,
      "outputs": [
        {
          "output_type": "stream",
          "text": [
            "5\n",
            "4\n",
            "3\n",
            "2\n",
            "1\n"
          ],
          "name": "stdout"
        }
      ]
    },
    {
      "cell_type": "code",
      "metadata": {
        "colab": {
          "base_uri": "https://localhost:8080/"
        },
        "id": "wa9lr_UHaQyX",
        "outputId": "e5512384-45f1-4288-d641-348ec7810988"
      },
      "source": [
        "for i in range(6):\n",
        "  for j in range(i):\n",
        "    print(\"*\",end =\" \")\n",
        "  print(\"\")\n",
        "for i in range(4,0,-1):\n",
        "  for j in range(i):\n",
        "     print(\"*\",end =\" \")\n",
        "  print(\"\")\n"
      ],
      "execution_count": 14,
      "outputs": [
        {
          "output_type": "stream",
          "text": [
            "\n",
            "* \n",
            "* * \n",
            "* * * \n",
            "* * * * \n",
            "* * * * * \n",
            "* * * * \n",
            "* * * \n",
            "* * \n",
            "* \n"
          ],
          "name": "stdout"
        }
      ]
    },
    {
      "cell_type": "markdown",
      "metadata": {
        "id": "IxxNWXw0QRa9"
      },
      "source": [
        "2. Write a Python program to reverse a word after accepting the input from the user. \n",
        "\n",
        "Sample Output: \n",
        "\n",
        "Input word: ineuron \n",
        "\n",
        "Output: norueni\n",
        "\n"
      ]
    },
    {
      "cell_type": "code",
      "metadata": {
        "id": "uiOSG-Oq1XL_"
      },
      "source": [
        "def reverse_word():\n",
        "  x = input(\"type your word\")\n",
        "  print(x[::-1])\n"
      ],
      "execution_count": null,
      "outputs": []
    },
    {
      "cell_type": "code",
      "metadata": {
        "id": "J_pnX-1OUtp_",
        "colab": {
          "base_uri": "https://localhost:8080/"
        },
        "outputId": "16be9d6a-8459-4e02-fdfc-4264e22fa9b2"
      },
      "source": [
        "reverse_word()"
      ],
      "execution_count": null,
      "outputs": [
        {
          "output_type": "stream",
          "text": [
            "type your wordineuron\n",
            "norueni\n"
          ],
          "name": "stdout"
        }
      ]
    },
    {
      "cell_type": "code",
      "metadata": {
        "id": "8wR2pm85U2Kd"
      },
      "source": [
        ""
      ],
      "execution_count": null,
      "outputs": []
    }
  ]
}